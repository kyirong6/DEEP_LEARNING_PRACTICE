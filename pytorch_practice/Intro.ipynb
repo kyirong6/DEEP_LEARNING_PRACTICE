{
 "cells": [
  {
   "cell_type": "markdown",
   "metadata": {},
   "source": [
    "## Getting Familiar w/ PyTorch\n",
    "Assumes familiarity of NN's\n",
    "\n",
    "*reference: https://github.com/udacity/deep-learning-v2-pytorch"
   ]
  },
  {
   "cell_type": "code",
   "execution_count": 41,
   "metadata": {},
   "outputs": [
    {
     "data": {
      "text/plain": [
       "<torch._C.Generator at 0x11ada2c50>"
      ]
     },
     "execution_count": 41,
     "metadata": {},
     "output_type": "execute_result"
    }
   ],
   "source": [
    "import torch\n",
    "\n",
    "torch.manual_seed(7)"
   ]
  },
  {
   "cell_type": "markdown",
   "metadata": {},
   "source": [
    "### Basic Datatypes "
   ]
  },
  {
   "cell_type": "markdown",
   "metadata": {},
   "source": [
    "#### Tensors\n",
    "A generalization of matrices. The fundamental data structure for NN's in PyTorch.\n",
    "\n",
    "**1D Tensors:** *vector\n",
    " - indexed value: scalar \n",
    " \n",
    "**2D Tensors:** *matrix\n",
    " - indexed value: vector\n",
    "\n",
    "**3D Tensors:** *matrix of matrices\n",
    " - indexed value: matrix"
   ]
  },
  {
   "cell_type": "code",
   "execution_count": 42,
   "metadata": {},
   "outputs": [
    {
     "name": "stdout",
     "output_type": "stream",
     "text": [
      "A 1D Tensor: tensor([1, 2, 3])\n",
      "An indexed value: tensor(1)\n"
     ]
    }
   ],
   "source": [
    "one_dim = [1, 2, 3]\n",
    "one_dim = torch.tensor(one_dim)\n",
    "print(f\"A 1D Tensor: {one_dim}\")\n",
    "print(f\"An indexed value: tensor({one_dim[0]})\")"
   ]
  },
  {
   "cell_type": "code",
   "execution_count": 43,
   "metadata": {
    "scrolled": true
   },
   "outputs": [
    {
     "name": "stdout",
     "output_type": "stream",
     "text": [
      "A 2D Tensor: tensor([[1, 2, 3],\n",
      "        [4, 5, 6]])\n",
      "An indexed value: tensor([1, 2, 3])\n"
     ]
    }
   ],
   "source": [
    "two_dim = [[1, 2, 3], [4,5,6]]\n",
    "two_dim = torch.tensor(two_dim)\n",
    "print(f\"A 2D Tensor: {two_dim}\")\n",
    "print(f\"An indexed value: {two_dim[0]}\")"
   ]
  },
  {
   "cell_type": "code",
   "execution_count": 44,
   "metadata": {},
   "outputs": [
    {
     "name": "stdout",
     "output_type": "stream",
     "text": [
      "A 3D Tensor: tensor([[[ 1,  2,  3],\n",
      "         [ 4,  5,  6]],\n",
      "\n",
      "        [[ 7,  8,  9],\n",
      "         [10, 11, 12]]])\n",
      "An indexed value: tensor([[1, 2, 3],\n",
      "        [4, 5, 6]])\n"
     ]
    }
   ],
   "source": [
    "three_d = [[[1, 2, 3], [4,5,6]], [[7, 8, 9], [10,11,12]]]\n",
    "three_d = torch.tensor(three_d)\n",
    "print(f\"A 3D Tensor: {three_d}\")\n",
    "print(f\"An indexed value: {three_d[0]}\")"
   ]
  },
  {
   "cell_type": "markdown",
   "metadata": {},
   "source": [
    "### Manual Feedforward"
   ]
  },
  {
   "cell_type": "markdown",
   "metadata": {},
   "source": [
    "#### A Perceptron\n",
    " - activation function ( f ): sigmoid\n",
    " - output: f( features * weights )\n",
    "      - features shape: (n x m)\n",
    "      - weights shape: (m x 1)"
   ]
  },
  {
   "cell_type": "code",
   "execution_count": 45,
   "metadata": {},
   "outputs": [],
   "source": [
    "def activation(x):\n",
    "    \"\"\" Sigmoid activation function \n",
    "    \n",
    "        Arguments\n",
    "        ---------\n",
    "        x: torch.Tensor\n",
    "    \"\"\"\n",
    "    return 1/(1+torch.exp(-x))"
   ]
  },
  {
   "cell_type": "code",
   "execution_count": 46,
   "metadata": {},
   "outputs": [
    {
     "name": "stdout",
     "output_type": "stream",
     "text": [
      "features shape: torch.Size([1, 5])\n",
      "weights shape: torch.Size([1, 5])\n"
     ]
    }
   ],
   "source": [
    "# Features are 5 random normal variables\n",
    "features = torch.randn((1, 5))\n",
    "# True weights for our data, random normal variables again\n",
    "weights = torch.randn_like(features)\n",
    "# and a true bias term\n",
    "bias = torch.randn((1, 1))\n",
    "\n",
    "print(f\"features shape: {features.shape}\")\n",
    "print(f\"weights shape: {weights.shape}\")"
   ]
  },
  {
   "cell_type": "markdown",
   "metadata": {},
   "source": [
    "**What would happen if we tried to multiple features by weights?** torch.mm(features,weights)\n",
    "\n",
    " - *hint: shape error!*\n",
    "\n",
    " - Number of columns in the first tensor must be equal to the number of rows in the second tensor\n",
    "\n",
    "**tensor.view(a, b)** can be used to reshape your tensor structures into (a, b) shape."
   ]
  },
  {
   "cell_type": "code",
   "execution_count": 47,
   "metadata": {},
   "outputs": [
    {
     "name": "stdout",
     "output_type": "stream",
     "text": [
      "weights shape: torch.Size([5, 1])\n",
      "(features * weights) + bias = tensor([[-1.9796]])\n"
     ]
    }
   ],
   "source": [
    "weights = weights.view(5,1)\n",
    "linear_combination =  torch.mm(features,weights)\n",
    "\n",
    "# add the bias to our linear combination\n",
    "lc_bias = linear_combination + bias \n",
    "\n",
    "print(f\"weights shape: {weights.shape}\")\n",
    "print(f\"(features * weights) + bias = {linear_combination}\")"
   ]
  },
  {
   "cell_type": "code",
   "execution_count": 48,
   "metadata": {},
   "outputs": [
    {
     "name": "stdout",
     "output_type": "stream",
     "text": [
      "the output of a single perceptron: tensor([[0.1595]])\n"
     ]
    }
   ],
   "source": [
    "# pass the (linear combination + bias) into an activation function\n",
    "output = activation(lc_bias)\n",
    "\n",
    "print(f\"the output of a single perceptron: {output}\")"
   ]
  },
  {
   "cell_type": "markdown",
   "metadata": {},
   "source": [
    "#### Layers\n",
    "\n",
    " - output: f_2 ( f_1(features * weights + bias) * weights  + bias)"
   ]
  },
  {
   "cell_type": "code",
   "execution_count": 61,
   "metadata": {},
   "outputs": [],
   "source": [
    "### Generate some data\n",
    "torch.manual_seed(7)\n",
    "\n",
    "# Features are 3 random normal variables\n",
    "features = torch.randn((1, 3))\n",
    "\n",
    "# Define the size of each layer in our network\n",
    "n_input = features.shape[1]     # Number of input units, must match number of input features\n",
    "n_hidden = 2                    # Number of hidden units \n",
    "n_output = 1                    # Number of output units\n",
    "\n",
    "# Weights for inputs to hidden layer\n",
    "W1 = torch.randn(n_input, n_hidden)\n",
    "# Weights for hidden layer to output layer\n",
    "W2 = torch.randn(n_hidden, n_output)\n",
    "\n",
    "# and bias terms for hidden and output layers\n",
    "B1 = torch.randn((1, n_hidden))\n",
    "B2 = torch.randn((1, n_output))"
   ]
  },
  {
   "cell_type": "code",
   "execution_count": 66,
   "metadata": {},
   "outputs": [
    {
     "name": "stdout",
     "output_type": "stream",
     "text": [
      "output of layer 1: tensor([[0.6813, 0.4355]])\n"
     ]
    }
   ],
   "source": [
    "lc_1 = torch.mm(features, W1) + B1\n",
    "output_1 = activation(lc_1)\n",
    "\n",
    "print(f\"output of layer 1: {output_1}\")"
   ]
  },
  {
   "cell_type": "code",
   "execution_count": 65,
   "metadata": {},
   "outputs": [
    {
     "name": "stdout",
     "output_type": "stream",
     "text": [
      "final output: tensor([[0.3171]])\n"
     ]
    }
   ],
   "source": [
    "lc_2 = torch.mm(output_1, W2) + B2\n",
    "output_final = activation(lc_2)\n",
    "\n",
    "print(f\"final output: {output_final}\")"
   ]
  },
  {
   "cell_type": "code",
   "execution_count": 64,
   "metadata": {
    "scrolled": true
   },
   "outputs": [
    {
     "data": {
      "text/plain": [
       "tensor([[0.3171]])"
      ]
     },
     "execution_count": 64,
     "metadata": {},
     "output_type": "execute_result"
    }
   ],
   "source": [
    "output_final"
   ]
  }
 ],
 "metadata": {
  "kernelspec": {
   "display_name": "Python 3",
   "language": "python",
   "name": "python3"
  },
  "language_info": {
   "codemirror_mode": {
    "name": "ipython",
    "version": 3
   },
   "file_extension": ".py",
   "mimetype": "text/x-python",
   "name": "python",
   "nbconvert_exporter": "python",
   "pygments_lexer": "ipython3",
   "version": "3.7.3"
  }
 },
 "nbformat": 4,
 "nbformat_minor": 2
}
